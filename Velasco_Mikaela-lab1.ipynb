{
 "cells": [
  {
   "cell_type": "markdown",
   "metadata": {},
   "source": [
    "195206\n",
    "Velasco\n",
    "2 BS Management Engineering"
   ]
  },
  {
   "cell_type": "markdown",
   "metadata": {},
   "source": [
    "# Problem 1\n",
    "\n",
    "Pseudocode\n",
    "\n",
    "1. ask for amount in US dollars (variable: us_dollar_amount)\n",
    "2. convert the amount in US dollars into Philippine Pesos (variable: ph_peso_amount)\n",
    "3. display the amount in Philippines Pesos "
   ]
  },
  {
   "cell_type": "code",
   "execution_count": 9,
   "metadata": {},
   "outputs": [],
   "source": [
    "def dollars_to_pesos (us_dollar_amount):\n",
    "    dollars_to_pesos = us_dollar_amount * 50\n",
    "    return dollars_to_pesos"
   ]
  },
  {
   "cell_type": "code",
   "execution_count": 11,
   "metadata": {},
   "outputs": [
    {
     "name": "stdout",
     "output_type": "stream",
     "text": [
      "Enter the amount in US Dollars: 1\n",
      "1 US dollar(s) =  50 Philippines Pesos\n"
     ]
    }
   ],
   "source": [
    "#ask for amount in US dollars\n",
    "us_dollar_amount = int(input(\"Enter the amount in US Dollars: \"))\n",
    "\n",
    "# convert the amount in US dollars into Philippine Pesos\n",
    "ph_peso_amount = dollars_to_pesos (us_dollar_amount)\n",
    "\n",
    "# display the amount in Philippines Pesos\n",
    "print (us_dollar_amount, \"US dollar(s) = \", ph_peso_amount, \"Philippines Pesos\")"
   ]
  },
  {
   "cell_type": "code",
   "execution_count": 12,
   "metadata": {},
   "outputs": [
    {
     "name": "stdout",
     "output_type": "stream",
     "text": [
      "Enter the amount in US Dollars: 20\n",
      "20 US dollar(s) =  1000 Philippines Pesos\n"
     ]
    }
   ],
   "source": [
    "#ask for amount in US dollars\n",
    "us_dollar_amount = int(input(\"Enter the amount in US Dollars: \"))\n",
    "\n",
    "# convert the amount in US dollars into Philippine Pesos\n",
    "ph_peso_amount = dollars_to_pesos (us_dollar_amount)\n",
    "\n",
    "# display the amount in Philippines Pesos\n",
    "print (us_dollar_amount, \"US dollar(s) = \", ph_peso_amount, \"Philippines Pesos\")"
   ]
  },
  {
   "cell_type": "markdown",
   "metadata": {},
   "source": [
    "# Problem 2\n",
    "\n",
    "Pseudocode\n",
    "\n",
    "1. ask for the first positive integer (variable: a)\n",
    "2. ask for the second positive integer (variable: b)\n",
    "3. display the sum of the two positive integers \n",
    "4. display the difference when b is subtracted from a \n",
    "5. display the product of the two positive integers\n",
    "6. display the quotient when a is divided by b \n",
    "7. display the remainder of the quotient "
   ]
  },
  {
   "cell_type": "code",
   "execution_count": 14,
   "metadata": {},
   "outputs": [
    {
     "name": "stdout",
     "output_type": "stream",
     "text": [
      "55\n",
      "3\n",
      "58\n",
      "52\n",
      "165\n",
      "18\n",
      "1\n"
     ]
    }
   ],
   "source": [
    "# ask for the first positive integer\n",
    "a = int(input())\n",
    "assert (a > 0)\n",
    "\n",
    "# ask for the second positive integer\n",
    "b = int(input())\n",
    "assert (b > 0)\n",
    "\n",
    "# display the sum of the two positive integers \n",
    "print(a+b)\n",
    "\n",
    "# display the difference when b is subtracted from a\n",
    "print(a-b)\n",
    "\n",
    "# display the product of the two positive integers\n",
    "print(a*b)\n",
    "\n",
    "# display the quotient when a is divided by b, excluding the remainder\n",
    "print(a//b)\n",
    "\n",
    "# display the remainder of the quotient\n",
    "print (a%b)"
   ]
  },
  {
   "cell_type": "code",
   "execution_count": 15,
   "metadata": {},
   "outputs": [
    {
     "name": "stdout",
     "output_type": "stream",
     "text": [
      "128\n",
      "8\n",
      "136\n",
      "120\n",
      "1024\n",
      "16\n",
      "0\n"
     ]
    }
   ],
   "source": [
    "# ask for the first positive integer\n",
    "a = int(input())\n",
    "assert (a > 0)\n",
    "\n",
    "# ask for the second positive integer\n",
    "b = int(input())\n",
    "assert (b > 0)\n",
    "\n",
    "# display the sum of the two positive integers \n",
    "print(a+b)\n",
    "\n",
    "# display the difference when b is subtracted from a\n",
    "print(a-b)\n",
    "\n",
    "# display the product of the two positive integers\n",
    "print(a*b)\n",
    "\n",
    "# display the quotient when a is divided by b, excluding the remainder\n",
    "print(a//b)\n",
    "\n",
    "# display the remainder of the quotient\n",
    "print (a%b)"
   ]
  },
  {
   "cell_type": "markdown",
   "metadata": {},
   "source": [
    "# Problem 3\n",
    "\n",
    "Pseudocode:\n",
    "1. ask for the person's weight in kilograms (variable: kg)\n",
    "2. ask for the person's height in centimeters (variable: cm)\n",
    "3. convert centimeters to meters (variable: m)\n",
    "4. compute for the person's Body Mass Index (variable: BMI)\n",
    "5. display the person's BMI"
   ]
  },
  {
   "cell_type": "code",
   "execution_count": 16,
   "metadata": {},
   "outputs": [],
   "source": [
    "def convert_cm_to_m (cm):\n",
    "    convert_cm_to_m = cm / 100\n",
    "    return convert_cm_to_m\n",
    "\n",
    "def compute_bmi (kg, m):\n",
    "    compute_bmi = kg / (m**2)\n",
    "    return compute_bmi"
   ]
  },
  {
   "cell_type": "code",
   "execution_count": 24,
   "metadata": {},
   "outputs": [
    {
     "name": "stdout",
     "output_type": "stream",
     "text": [
      "Enter kg: 65\n",
      "Enter cm: 180\n",
      "BMI: 20.061728395061728\n"
     ]
    }
   ],
   "source": [
    "# ask for the person's weight in kilograms\n",
    "kg = float(input(\"Enter kg: \"))\n",
    "\n",
    "# ask for the person's height in centimeters\n",
    "cm = float(input(\"Enter cm: \"))\n",
    "\n",
    "# convert centimeters to meters\n",
    "m = float(convert_cm_to_m (cm))\n",
    "\n",
    "# compute for the person's Body Mass Index\n",
    "BMI = float(compute_bmi (kg, m))\n",
    "\n",
    "# display the person's BMI\n",
    "print(\"BMI:\", BMI)"
   ]
  },
  {
   "cell_type": "code",
   "execution_count": 23,
   "metadata": {},
   "outputs": [
    {
     "name": "stdout",
     "output_type": "stream",
     "text": [
      "Enter kg: 67\n",
      "Enter cm: 178\n",
      "BMI: 21.146319909102385\n"
     ]
    }
   ],
   "source": [
    "# ask for the person's weight in kilograms\n",
    "kg = float(input(\"Enter kg: \"))\n",
    "\n",
    "# ask for the person's height in centimeters\n",
    "cm = float(input(\"Enter cm: \"))\n",
    "\n",
    "# convert centimeters to meters\n",
    "m = float(convert_cm_to_m (cm))\n",
    "\n",
    "# compute for the person's Body Mass Index\n",
    "BMI = float(compute_bmi (kg, m))\n",
    "\n",
    "# display the person's BMI\n",
    "print(\"BMI:\", BMI)"
   ]
  },
  {
   "cell_type": "code",
   "execution_count": 22,
   "metadata": {},
   "outputs": [
    {
     "name": "stdout",
     "output_type": "stream",
     "text": [
      "Enter kg: 70\n",
      "Enter cm: 170\n",
      "BMI: 24.221453287197235\n"
     ]
    }
   ],
   "source": [
    "# ask for the person's weight in kilograms\n",
    "kg = float(input(\"Enter kg: \"))\n",
    "\n",
    "# ask for the person's height in centimeters\n",
    "cm = float(input(\"Enter cm: \"))\n",
    "\n",
    "# convert centimeters to meters\n",
    "m = float(convert_cm_to_m (cm))\n",
    "\n",
    "# compute for the person's Body Mass Index\n",
    "BMI = float(compute_bmi (kg, m))\n",
    "\n",
    "# display the person's BMI\n",
    "print(\"BMI:\", BMI)"
   ]
  },
  {
   "cell_type": "code",
   "execution_count": null,
   "metadata": {},
   "outputs": [],
   "source": []
  }
 ],
 "metadata": {},
 "nbformat": 4,
 "nbformat_minor": 4
}
