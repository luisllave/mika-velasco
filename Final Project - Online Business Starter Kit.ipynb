{
 "cells": [
  {
   "cell_type": "markdown",
   "metadata": {},
   "source": [
    "# Online Business Starter Kit\n",
    "\n",
    "Welcome to your online business starter kit! Here, we will help you build up your online business from scratch. From inventory making, to a selling system with a digital receipt, we shall guide you throughout this process!"
   ]
  },
  {
   "cell_type": "markdown",
   "metadata": {},
   "source": [
    "## 1) Fill up your first inventory\n",
    "\n",
    "To create your inventory, provide a name for your inventory by filling the blanks guided by the # comments.\n",
    "\n",
    "Then, run the cell below (Shift + Return/Enter)."
   ]
  },
  {
   "cell_type": "markdown",
   "metadata": {},
   "source": [
    "#### \"INVENTORY MAKER\" CELL:"
   ]
  },
  {
   "cell_type": "code",
   "execution_count": null,
   "metadata": {},
   "outputs": [],
   "source": [
    "inventory = {}\n",
    "# ^ change inventory to the name of your inventory\n",
    "\n",
    "command = input(\"Add product to your inventory? (Y/N):   \")\n",
    "\n",
    "while command == \"Y\":\n",
    "    product_code = str(input(\"Enter product code:  \"))\n",
    "    product_name = str(input(\"Enter product name:  \"))\n",
    "    product_price = float(input(\"Enter product price:  \"))\n",
    "    product_quantity = int(input(\"Enter product quantity:  \"))\n",
    "    \n",
    "    def enter_product(code, name, price, quantity):\n",
    "        details = {}\n",
    "        details[\"name\"] = name\n",
    "        details[\"price\"] = price\n",
    "        details[\"quantity\"] = quantity\n",
    "        entry = {code:details}\n",
    "        inventory.update(entry)\n",
    "          # ^ change inventory to the name of your inventory\n",
    "\n",
    "        \n",
    "    enter_product(product_code, product_name, product_price, product_quantity)\n",
    "    command = input(\"Add another product? Y - Yes and N - End inventory edit:    \")\n",
    "\n",
    "print(\"------------------------------------------\")\n",
    "print(\"Here if your current inventory:\")\n",
    "print(\"Name of inventory: \"+\"inventory\")\n",
    "                             # ^ change inventory to the name of your inventory in between the quotation marks\n",
    "print(inventory)"
   ]
  },
  {
   "cell_type": "markdown",
   "metadata": {},
   "source": [
    "#### In case you have new products you weren't able to put in your inventory before, you may use the code below!\n",
    "\n",
    "Please read all the instructions in hashtags before you run the cell!"
   ]
  },
  {
   "cell_type": "markdown",
   "metadata": {},
   "source": [
    "#### \"ADD TO AN EXISTING INVENTORY\" CELL:"
   ]
  },
  {
   "cell_type": "code",
   "execution_count": null,
   "metadata": {},
   "outputs": [],
   "source": [
    "# if you want to add more to your inventory, \n",
    "    # insert the name of the inventory you want to add to down below\n",
    "        # guided by the # comment\n",
    "    # then, you may run this cell \n",
    "\n",
    "# copy this code down below to a new cell and execute,\n",
    "    # if you want to add more items to your inventory in the future\n",
    "\n",
    "command = input(\"Add product to your inventory? (Y/N):   \")\n",
    "\n",
    "while command == \"Y\":\n",
    "    product_code = str(input(\"Enter product code:  \"))\n",
    "    product_name = str(input(\"Enter product name:  \"))\n",
    "    product_price = float(input(\"Enter product price:  \"))\n",
    "    product_quantity = int(input(\"Enter product quantity:  \"))\n",
    "    \n",
    "    def enter_product(code, name, price, quantity):\n",
    "        details = {}\n",
    "        details[\"name\"] = name\n",
    "        details[\"price\"] = price\n",
    "        details[\"quantity\"] = quantity\n",
    "        entry = {code:details}\n",
    "        inventory.update(entry)\n",
    "        # ^ change inventory to the name of the inventory you want to add to\n",
    "\n",
    "    enter_product(product_code, product_name, product_price, product_quantity)\n",
    "    command = input(\"Add another product? Y - Yes and N - End inventory edit:    \")\n",
    "\n",
    "print(\"------------------------------------------\")\n",
    "print(\"Here if your current inventory:\")\n",
    "print(\"Name of inventory: \"+\"inventory\")\n",
    "                             # ^ change inventory to the name of your inventory in between the quotation marks\n",
    "print(inventory)"
   ]
  },
  {
   "cell_type": "markdown",
   "metadata": {},
   "source": [
    "#### 1.a) Q: \"What if I want to create more inventories in the future?\"\n",
    "####       A: Just copy the contents or duplicate the \"INVENTORY MAKER\" CELL and follow the instructions for making an inventory all over again!"
   ]
  },
  {
   "cell_type": "markdown",
   "metadata": {},
   "source": [
    "## 2) Execute your ordering system\n",
    "\n",
    "To execute your ordering system, you must add the name of your chosen inventory in certain parts of this code (follow # instructions).\n",
    "\n",
    "Then, run the cell!\n",
    "\n",
    "**Note that this ordering system will only apply to one inventory. Copy the contents of the cell below/duplicate the cell below if you want to create an ordering system from another inventory**"
   ]
  },
  {
   "cell_type": "code",
   "execution_count": null,
   "metadata": {},
   "outputs": [],
   "source": [
    "def add_to_cart(cart, ordered_item):\n",
    "    add_to_cart = cart.append(ordered_item)\n",
    "    return add_to_cart\n",
    "\n",
    "def generate_receipt(cart):\n",
    "    print(\"-----------------------------------------------------\")\n",
    "    print(\"                 Official Receipt                    \")\n",
    "    print()\n",
    "    total_payment = 0\n",
    "    print(\"Product\",\"\\t\",\"Quantity\",\"\\t\",\"Subtotal\")\n",
    "    for item in cart:\n",
    "        print(inventory[item[\"code\"]][\"name\"],\"\\t\",\"\\t\",item[\"qty\"],\"\\t\",\"\\t\",\"P\",item[\"subtotal\"])\n",
    "                # ^ change inventory to the inventory you want to get item from\n",
    "        total_payment += item[\"subtotal\"]\n",
    "    print()\n",
    "    print(\"Your total payment is: \",\"P\",total_payment)\n",
    "    print(\"-----------------------------------------------------\") \n",
    "\n",
    "cart = []\n",
    "command = \"Y\"\n",
    "while(True):\n",
    "    command = input(\"Would you like to order? (Y/N):  \")\n",
    "    if(command.upper()==\"N\"):\n",
    "        break\n",
    "    else:\n",
    "        add = \"Y\"\n",
    "        while(add==\"Y\"):\n",
    "            code = input(\"Enter product code: \")\n",
    "            qty = int(input(\"Enter quantity: \"))\n",
    "            ordered_item = dict()\n",
    "            ordered_item[\"code\"] = code\n",
    "            ordered_item[\"qty\"] = qty\n",
    "            ordered_item[\"subtotal\"] = int(qty) * inventory[code][\"price\"]\n",
    "                                                    # ^ change inventory to the inventory you want to get item from\n",
    "            add_to_cart(cart,ordered_item)\n",
    "\n",
    "            add = input(\"Add more items? (Y/N): \").upper()\n",
    "                \n",
    "    generate_receipt(cart)\n",
    "    cart = [] \n",
    "        \n",
    "        \n",
    "print(\"Please proceed to the next window for your payment and shipping.\")"
   ]
  },
  {
   "cell_type": "markdown",
   "metadata": {},
   "source": [
    "## 3) Execute the payment and shipping system"
   ]
  },
  {
   "cell_type": "code",
   "execution_count": null,
   "metadata": {},
   "outputs": [],
   "source": [
    "print(\"-----------------------------------------------------\")\n",
    "print(\"                Payment and Shipping                 \")\n",
    "print(\"Here is your total payment:  \", total_payment)\n",
    "\n",
    "print()\n",
    "print(\"                   Shipping Method                   \")\n",
    "print(\"Type pick-up or shipping\")\n",
    "shipping_method = (input(\"Please enter your preferred method for receiving your items:  \")\n",
    "if (shipping_address==\"pick up\"):\n",
    "    break\n",
    "else: \n",
    "    shipping_address = str(input(\"Enter your shipping address:  \"))\n",
    "\n",
    "print()\n",
    "print(\"                   Payment Method                    \")\n",
    "print(\"Type cash on delivery, cash deposit or card\")\n",
    "payment_method = (input(\"Please enter your preferred method of payment:  \")\n",
    "if (payment_method==\"cash on delivery\"):\n",
    "    given_payment = float(input(\"Please enter the amount you are paying:  \"))\n",
    "    def check_for_change(given_payment):\n",
    "        if given_payment == total_payment:\n",
    "            print(\"Exact amount was given.\")\n",
    "        elif given_payment < total_payment:\n",
    "            print(\"Insufficient payment.\")\n",
    "            return payment_method\n",
    "        else:\n",
    "            check_for_change = total_payment-given_payment\n",
    "            print(\"Your change is:  \",check_for_change)\n",
    "elif (payment_method==\"cash deposit\"):\n",
    "    deposit_account = str(input(\"Through which bank? (BDO/BPI):  \"))\n",
    "    print(\"Please provide us with your deposit slip via this email:  \")\n",
    "    break\n",
    "else:\n",
    "    card_type = str(input(\"Type of card (ex. Mastercard, etc.):  \"))\n",
    "    card_name = str(input(\"Please enter the name on your credit card:  \"))\n",
    "    card_number = int(input(\"Please enter your credit card number:  \"))\n",
    "    card_expiration = int(input(\"Please enter your credit card expiration date (MM/YY):  \"))\n",
    "    card_cvv = int(input(\"Please enter the 3-digit CVV: \"))\n",
    "\n",
    "print(\"Thank you for shopping with us! Have a great day.\")"
   ]
  }
 ],
 "metadata": {
  "kernelspec": {
   "display_name": "Python 3",
   "language": "python",
   "name": "python3"
  },
  "language_info": {
   "codemirror_mode": {
    "name": "ipython",
    "version": 3
   },
   "file_extension": ".py",
   "mimetype": "text/x-python",
   "name": "python",
   "nbconvert_exporter": "python",
   "pygments_lexer": "ipython3",
   "version": "3.7.6"
  }
 },
 "nbformat": 4,
 "nbformat_minor": 4
}
