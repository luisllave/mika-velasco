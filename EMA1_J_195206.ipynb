{
 "cells": [
  {
   "cell_type": "markdown",
   "metadata": {},
   "source": [
    "# Problem 1"
   ]
  },
  {
   "cell_type": "code",
   "execution_count": 14,
   "metadata": {},
   "outputs": [
    {
     "name": "stdout",
     "output_type": "stream",
     "text": [
      "Enter number of rows: 2\n",
      "<table>\n",
      "<tr class=\"lightyellowrow\"><td>1</td><td>1</td></tr>\n",
      "<tr class=\"whiterow\"><td>1</td><td>1</td></tr>\n",
      "</table>\n"
     ]
    }
   ],
   "source": [
    "rows = int(input(\"Enter number of rows: \"))\n",
    "\n",
    "print('<table>')\n",
    "\n",
    "# counter for color\n",
    "counter = 1\n",
    "\n",
    "# value to print\n",
    "value = 1\n",
    "\n",
    "# square of the value\n",
    "value2 = (value**2)\n",
    "\n",
    "for n in range(1, rows+1):\n",
    "    if (n % 2) != 0:\n",
    "        print('<tr class=\"lightyellowrow\"><td>', value, '</td><td>', value2, '</td></tr>', sep ='')\n",
    "    elif (n % 2) == 0:\n",
    "        print('<tr class=\"whiterow\"><td>', value, '</td><td>', value2, '</td></tr>', sep ='')\n",
    "        value = + 1 \n",
    "\n",
    "print('</table>')"
   ]
  },
  {
   "cell_type": "markdown",
   "metadata": {},
   "source": [
    "# Problem 2"
   ]
  },
  {
   "cell_type": "code",
   "execution_count": 1,
   "metadata": {
    "scrolled": true
   },
   "outputs": [
    {
     "name": "stdout",
     "output_type": "stream",
     "text": [
      "Day:9\n",
      "Month:10\n",
      "Year:2020\n",
      "Day:  9\n",
      "Month:  10\n",
      "Year:  2020\n",
      "It is the 9th day of the month of October of the year 2020\n"
     ]
    }
   ],
   "source": [
    "day=int(input(\"Day:\"))\n",
    "month=int(input(\"Month:\"))\n",
    "year=int(input(\"Year:\"))\n",
    "\n",
    "\n",
    "if (year % 4) == 0:\n",
    "    if (year % 100) == 0:\n",
    "        if (year % 400) == 0:\n",
    "            leap=True\n",
    "        else:\n",
    "            leap=False\n",
    "    else:\n",
    "        leap=True\n",
    "else:\n",
    "    leap=False \n",
    "\n",
    "if leap==False:\n",
    "    if month==2 and day>=29:\n",
    "        date=False\n",
    "    else:\n",
    "        date=True\n",
    "else:\n",
    "    if month==2 and day>29:\n",
    "        date=False\n",
    "    else:\n",
    "        date=True\n",
    "\n",
    "if month==1 or month==3 or month==5 or month==7 or month==8 or month==10 or month==12:\n",
    "    if day>31:\n",
    "        date=False\n",
    "    else:\n",
    "        date=True\n",
    "elif month==4 or month==6 or month==9 or month==11:\n",
    "    if day>30:\n",
    "        date=False\n",
    "    else:\n",
    "        date=True\n",
    "\n",
    "if 1<=month<=12:\n",
    "    a = \"January Febuary March April May June July August September October November December\".split()\n",
    "    n=a[month - 1]\n",
    "def ord(day):\n",
    "    if 4<=day%100<=20:\n",
    "        return str(day)+\"th\"\n",
    "    else:\n",
    "        if day==1 or day==21 or day==31:\n",
    "            return str(day)+\"st\"\n",
    "        if day==2 or day==22:\n",
    "            return str(day)+\"nd\"\n",
    "        if day==3 or day==23:\n",
    "            return str(day)+\"rd\"\n",
    "print(\"Day: \",day)\n",
    "print(\"Month: \",month)\n",
    "print(\"Year: \",year)\n",
    "\n",
    "if date==False:\n",
    "    print(\"Date is Invalid\")\n",
    "else:\n",
    "    print(\"It is the\",ord(day),\"day of the month of\",n,\"of the year\",year)"
   ]
  },
  {
   "cell_type": "markdown",
   "metadata": {},
   "source": [
    "# Problem 3"
   ]
  },
  {
   "cell_type": "code",
   "execution_count": 2,
   "metadata": {},
   "outputs": [
    {
     "name": "stdout",
     "output_type": "stream",
     "text": [
      "123\n"
     ]
    },
    {
     "data": {
      "text/plain": [
       "True"
      ]
     },
     "execution_count": 2,
     "metadata": {},
     "output_type": "execute_result"
    }
   ],
   "source": [
    "num=int(input())\n",
    "def obedient(num):\n",
    "    if (num-3)%3==0:\n",
    "        return True\n",
    "    elif (num-3)%3 !=0:\n",
    "        return False\n",
    "obedient(num)"
   ]
  },
  {
   "cell_type": "markdown",
   "metadata": {},
   "source": [
    "# Problem 4"
   ]
  },
  {
   "cell_type": "code",
   "execution_count": 12,
   "metadata": {},
   "outputs": [
    {
     "name": "stdout",
     "output_type": "stream",
     "text": [
      "7\n",
      "1\t2\t3\t4\t5\t6\t7\t\n",
      "2\t4\t6\t8\t10\t12\t14\t\n",
      "3\t6\t9\t12\t15\t18\t21\t\n",
      "4\t8\t12\t16\t20\t24\t28\t\n",
      "5\t10\t15\t20\t25\t30\t35\t\n",
      "6\t12\t18\t24\t30\t36\t42\t\n",
      "7\t14\t21\t28\t35\t42\t49\t\n"
     ]
    }
   ],
   "source": [
    "x=int(input()) #input size of table\n",
    "def multtable(x): #function\n",
    "    for i in range(1,x+1):\n",
    "        for j in range (1,x+1):\n",
    "            print((i*j),end='\\t')\n",
    "        print('')\n",
    "multtable(x)"
   ]
  },
  {
   "cell_type": "markdown",
   "metadata": {},
   "source": [
    "# Problem 5"
   ]
  },
  {
   "cell_type": "code",
   "execution_count": 4,
   "metadata": {},
   "outputs": [
    {
     "name": "stdout",
     "output_type": "stream",
     "text": [
      "Do you prefer (a) the mountains, (b) the city, or (c) the beach?a\n",
      "Do you prefer (a) yoghurt, (b) ice cream, or (c) gelato?b\n",
      "Do you prefer (a) reading, (b) singing, or (c) writing?c\n",
      "Do you prefer (a) sweet, (b) salty, or (c) spicy food?a\n",
      "Do you prefer (a) cats, (b) dogs, or (c) fish?b\n",
      "\n",
      "Your Element is earth\n"
     ]
    }
   ],
   "source": [
    "fire=0\n",
    "water=0\n",
    "earth=0\n",
    "element=0\n",
    "\n",
    "place=str(input('Do you prefer (a) the mountains, (b) the city, or (c) the beach?'))\n",
    "food=str(input('Do you prefer (a) yoghurt, (b) ice cream, or (c) gelato?'))\n",
    "hobby=str(input('Do you prefer (a) reading, (b) singing, or (c) writing?'))\n",
    "taste=str(input('Do you prefer (a) sweet, (b) salty, or (c) spicy food?'))\n",
    "animal=str(input('Do you prefer (a) cats, (b) dogs, or (c) fish?'))\n",
    "\n",
    "if place=='a':\n",
    "    fire+=1\n",
    "elif place=='b':\n",
    "    earth+=1\n",
    "elif place=='c':\n",
    "    water+=1\n",
    "else:\n",
    "    print('Sorry, you inputted a wrong letter. Please Start again')\n",
    "\n",
    "if food=='a':\n",
    "    earth+=1\n",
    "elif food=='b':\n",
    "    water+=1\n",
    "elif food=='c':\n",
    "    fire+=1\n",
    "else:\n",
    "    print('Sorry, you inputted a wrong letter. Please Start again')\n",
    "\n",
    "\n",
    "if hobby=='a':\n",
    "    water+=1\n",
    "elif hobby=='b':\n",
    "    fire+=1\n",
    "elif hobby=='c':\n",
    "    earth+=1\n",
    "else:\n",
    "    print('Sorry, you inputted a wrong letter. Please Start again')\n",
    "\n",
    "if taste=='a':\n",
    "    earth+=1\n",
    "elif taste=='b':\n",
    "    water+=1\n",
    "elif taste=='c':\n",
    "    fire+=1\n",
    "else:\n",
    "    print('Sorry, you inputted a wrong letter. Please Start again')\n",
    "\n",
    "if animal=='a':\n",
    "    earth+=1\n",
    "elif animal=='b':\n",
    "    fire+=1\n",
    "elif animal=='c':\n",
    "    water+=1\n",
    "else:\n",
    "    print('Sorry, you inputted a wrong letter. Please Start again')\n",
    "\n",
    "if fire>water and fire>earth:\n",
    "    print()\n",
    "    print('Your Element is fire')\n",
    "elif water>fire and water>earth:\n",
    "    print()\n",
    "    print('Your Element is water')\n",
    "elif earth>water and earth>fire:\n",
    "    print()\n",
    "    print('Your Element is earth')\n",
    "elif earth==fire:\n",
    "    print()\n",
    "    print('Your Element is earth')\n",
    "elif fire==water:\n",
    "    print()\n",
    "    print('Your Element is fire')\n",
    "elif earth==water:\n",
    "        print()\n",
    "        print('Your Element is water')\n"
   ]
  },
  {
   "cell_type": "code",
   "execution_count": null,
   "metadata": {},
   "outputs": [],
   "source": []
  }
 ],
 "metadata": {
  "kernelspec": {
   "display_name": "Python 3",
   "language": "python",
   "name": "python3"
  },
  "language_info": {
   "codemirror_mode": {
    "name": "ipython",
    "version": 3
   },
   "file_extension": ".py",
   "mimetype": "text/x-python",
   "name": "python",
   "nbconvert_exporter": "python",
   "pygments_lexer": "ipython3",
   "version": "3.7.6"
  }
 },
 "nbformat": 4,
 "nbformat_minor": 4
}
