{
 "cells": [
  {
   "cell_type": "markdown",
   "metadata": {},
   "source": [
    "CAESAR CIPHER\n",
    "\n",
    "This function encrypts a message using the Caesar cipher method.\n",
    "The Caesar cipher \"shifts\" each letter in a message to the right by a specified number.\n",
    "\n",
    "For example:\n",
    "\n",
    "encrypt('ABC', 2) -> 'CDE'\n",
    "\n",
    "In terms of ordinal positions in the alphabet, 'A' is 0, 'B' is 1, and 'C' is 2.\n",
    "Add the specified number to each of these values to receive 0 + 2 = 2, 2 + 2 = 4, and 3 + 2 = 5.\n",
    "Converting back to letters from numbers: 2 is 'C', 3 is 'D', and 4 is 'E'.\n",
    "\n",
    "Another example:\n",
    "\n",
    "encrypt('XYZ', 2) -> 'ZAB'\n",
    "\n",
    "In terms of ordinal positions in the alphabet, 'X' is 23, 'Y' is 24, and 'Z' is 25.\n",
    "Add the specified number to each to receive 25, 26, and 27 respectively.\n",
    "26 and 27 no longer fall in the range of alphabet numbers, so we need to \"wrap\" them around.\n",
    "Subtract 26 from 26 and 27 to receive 0 and 1. The final list of numbers is 25, 0, and 1.\n",
    "Converting back to letters from numbers: 25 is 'Z', 0 is 'A', and 1 is 'B'.\n",
    "\n",
    "You may find these functions helpful:\n",
    "chr() converts a Unicode integer value to a character (i.e. a letter).\n",
    "e.g. chr(65) -> 'A'\n",
    "ord() converts a character (i.e. a letter) to its Unicode integer value.\n",
    "e.g. ord('A') -> 65\n",
    "\n",
    "For your convenience:\n",
    "\n",
    "The message is composed entirely of capital letters. There will be no spaces or lower case letters.\n",
    "The shift number will be between 0 and 25.\n",
    "The alphabet is mapped such that A is 0 and Z is 25."
   ]
  },
  {
   "cell_type": "code",
   "execution_count": null,
   "metadata": {},
   "outputs": [],
   "source": []
  },
  {
   "cell_type": "markdown",
   "metadata": {},
   "source": [
    "VIGNERE CIPHER\n",
    "\n",
    "This function encrypts a message using the Vigenere cipher method.\n",
    "\n",
    "The Vigenere cipher is an extension of the Caesar cipher method. Instead of using a uniform number, the Vigenere cipher uses a keyword to shift letters.\n",
    "\n",
    "Example:\n",
    "\n",
    "vigenere_encrypt('ABC', 'KEY') -> 'KFA'\n",
    "\n",
    "First, convert the message and the key to numbers.\n",
    "'ABC' -> [0, 1, 2]\n",
    "'KEY' -> [10, 4, 24]\n",
    "Second, add the respective numbers to each other.\n",
    "[0, 1, 2] + [10, 4, 24] = [10, 5, 26]\n",
    "Third, correct the numbers that do not fall within 0-25 by subtracting 26 until they fall within 0-25.\n",
    "[10, 5, 26] -> [10, 5, 0]\n",
    "Fourth, convert the numbers back to letters.\n",
    "[10, 5, 0] -> 'KFA'\n",
    "\n",
    "For your convenience:\n",
    "\n",
    "You are highly encouraged to use your Caesar cipher function from Item 2 in this item.\n",
    "You may assume that the key is the same length as the message.\n",
    "Bonus points:\n",
    "\n",
    "+2 (with a perfect base function) (all or nothing) if you adjust for the case that the key is shorter than the message. (e.g. \"MEAMORE\", \"UEDA\" -> \"MEAMORE\", \"UEDAUED\")"
   ]
  },
  {
   "cell_type": "code",
   "execution_count": null,
   "metadata": {},
   "outputs": [],
   "source": []
  }
 ],
 "metadata": {
  "kernelspec": {
   "display_name": "Python 3",
   "language": "python",
   "name": "python3"
  },
  "language_info": {
   "codemirror_mode": {
    "name": "ipython",
    "version": 3
   },
   "file_extension": ".py",
   "mimetype": "text/x-python",
   "name": "python",
   "nbconvert_exporter": "python",
   "pygments_lexer": "ipython3",
   "version": "3.7.6"
  }
 },
 "nbformat": 4,
 "nbformat_minor": 4
}
