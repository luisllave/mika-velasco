{
 "cells": [
  {
   "cell_type": "markdown",
   "metadata": {},
   "source": [
    "195206\n",
    "Velasco\n",
    "2 BS Management Engineering"
   ]
  },
  {
   "cell_type": "code",
   "execution_count": 7,
   "metadata": {},
   "outputs": [],
   "source": [
    "def three_number_average (firstnumber, secondnumber, thirdnumber) :\n",
    "    three_number_average = (firstnumber + secondnumber + thirdnumber) / 3\n",
    "    return three_number_average"
   ]
  },
  {
   "cell_type": "code",
   "execution_count": 8,
   "metadata": {},
   "outputs": [
    {
     "name": "stdout",
     "output_type": "stream",
     "text": [
      "Enter the first number: 1\n",
      "Enter the second number: 2\n",
      "Enter the third number: 3\n",
      "The average is 2.0\n"
     ]
    }
   ],
   "source": [
    "# ask for the first number\n",
    "firstnumber = int(input(\"Enter the first number: \"))\n",
    "assert (firstnumber > 0)\n",
    "\n",
    "# ask for the second number\n",
    "secondnumber = int(input(\"Enter the second number: \"))\n",
    "assert (secondnumber > 0)\n",
    "\n",
    "# ask for the third number\n",
    "thirdnumber = int(input(\"Enter the third number: \"))\n",
    "assert (thirdnumber > 0)\n",
    "\n",
    "# compute the average of the three positive integers\n",
    "average = three_number_average (firstnumber, secondnumber, thirdnumber)\n",
    "\n",
    "# display the average\n",
    "print (\"The average is\",average)"
   ]
  },
  {
   "cell_type": "code",
   "execution_count": 9,
   "metadata": {},
   "outputs": [
    {
     "name": "stdout",
     "output_type": "stream",
     "text": [
      "Enter the first number: 1\n",
      "Enter the second number: 1\n",
      "Enter the third number: 1\n",
      "The average is 1.0\n"
     ]
    }
   ],
   "source": [
    "# ask for the first number\n",
    "firstnumber = int(input(\"Enter the first number: \"))\n",
    "assert (firstnumber > 0)\n",
    "\n",
    "# ask for the second number\n",
    "secondnumber = int(input(\"Enter the second number: \"))\n",
    "assert (secondnumber > 0)\n",
    "\n",
    "# ask for the third number\n",
    "thirdnumber = int(input(\"Enter the third number: \"))\n",
    "assert (thirdnumber > 0)\n",
    "\n",
    "# compute the average of the three positive integers\n",
    "average = three_number_average (firstnumber, secondnumber, thirdnumber)\n",
    "\n",
    "# display the average\n",
    "print (\"The average is\",average)"
   ]
  },
  {
   "cell_type": "code",
   "execution_count": 11,
   "metadata": {},
   "outputs": [
    {
     "name": "stdout",
     "output_type": "stream",
     "text": [
      "Enter the first number: 2\n",
      "Enter the second number: 4\n",
      "Enter the third number: 6\n",
      "The average is 4.0\n"
     ]
    }
   ],
   "source": [
    "# ask for the first number\n",
    "firstnumber = int(input(\"Enter the first number: \"))\n",
    "assert (firstnumber > 0)\n",
    "\n",
    "# ask for the second number\n",
    "secondnumber = int(input(\"Enter the second number: \"))\n",
    "assert (secondnumber > 0)\n",
    "\n",
    "# ask for the third number\n",
    "thirdnumber = int(input(\"Enter the third number: \"))\n",
    "assert (thirdnumber > 0)\n",
    "\n",
    "# compute the average of the three positive integers\n",
    "average = three_number_average (firstnumber, secondnumber, thirdnumber)\n",
    "\n",
    "# display the average\n",
    "print (\"The average is\",average)"
   ]
  },
  {
   "cell_type": "code",
   "execution_count": null,
   "metadata": {},
   "outputs": [],
   "source": []
  }
 ],
 "metadata": {
  "kernelspec": {
   "display_name": "Python 3",
   "language": "python",
   "name": "python3"
  },
  "language_info": {
   "codemirror_mode": {
    "name": "ipython",
    "version": 3
   },
   "file_extension": ".py",
   "mimetype": "text/x-python",
   "name": "python",
   "nbconvert_exporter": "python",
   "pygments_lexer": "ipython3",
   "version": "3.7.6"
  }
 },
 "nbformat": 4,
 "nbformat_minor": 4
}
