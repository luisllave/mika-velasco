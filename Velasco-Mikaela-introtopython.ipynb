{
 "cells": [
  {
   "cell_type": "markdown",
   "metadata": {},
   "source": [
    "195206\n",
    "Velasco\n",
    "2 BS Management Engineering"
   ]
  },
  {
   "cell_type": "markdown",
   "metadata": {},
   "source": [
    "Pseudocode \n",
    "\n",
    "Steps:\n",
    "1. ask for the first number (variable: first_num)\n",
    "2. ask for the second number (variable: second_num)\n",
    "3. ask for the third number (variable: third_num)\n",
    "4. compute the average of the three positive integers (variable: ave)\n",
    "5. display the average "
   ]
  },
  {
   "cell_type": "code",
   "execution_count": 1,
   "metadata": {},
   "outputs": [],
   "source": [
    "def three_number_average (first_num, second_num, third_num) :\n",
    "    three_number_average = (first_num + second_num + third_num) / 3\n",
    "    return three_number_average"
   ]
  },
  {
   "cell_type": "code",
   "execution_count": null,
   "metadata": {},
   "outputs": [],
   "source": [
    "# ask for the first number\n",
    "first_num = int(input(\"Enter the first number: \"))\n",
    "assert (first_num > 0)\n",
    "\n",
    "# ask for the second number\n",
    "second_num = int(input(\"Enter the second number: \"))\n",
    "assert (second_num > 0)\n",
    "\n",
    "# ask for the third number\n",
    "third_num = int(input(\"Enter the third number: \"))\n",
    "assert (third_num > 0)\n",
    "\n",
    "# compute the average of the three positive integers\n",
    "ave = three_number_average (first_num, second_num, third_num)\n",
    "\n",
    "# display the average\n",
    "print (\"The average is\",ave)"
   ]
  },
  {
   "cell_type": "code",
   "execution_count": null,
   "metadata": {},
   "outputs": [],
   "source": []
  }
 ],
 "metadata": {
  "kernelspec": {
   "display_name": "Python 3",
   "language": "python",
   "name": "python3"
  },
  "language_info": {
   "codemirror_mode": {
    "name": "ipython",
    "version": 3
   },
   "file_extension": ".py",
   "mimetype": "text/x-python",
   "name": "python",
   "nbconvert_exporter": "python",
   "pygments_lexer": "ipython3",
   "version": "3.7.6"
  }
 },
 "nbformat": 4,
 "nbformat_minor": 4
}
